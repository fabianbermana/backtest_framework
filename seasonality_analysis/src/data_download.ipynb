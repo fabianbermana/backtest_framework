{
 "cells": [
  {
   "cell_type": "markdown",
   "metadata": {},
   "source": [
    "# Data Downloading\n",
    "\n",
    "This notebook is used to download the data from yahoo finance."
   ]
  },
  {
   "cell_type": "code",
   "execution_count": null,
   "metadata": {},
   "outputs": [],
   "source": [
    "import pandas as pd\n",
    "import yfinance as yf"
   ]
  },
  {
   "cell_type": "code",
   "execution_count": null,
   "metadata": {},
   "outputs": [],
   "source": [
    "### Tickers ###\n",
    "SP500_TOTAL_RETURN = '^SP500TR'\n",
    "SPDR_MSCI_WORLD_ACCUMULATING = 'SWRD.L'\n",
    "VANGUARD_TOTAL_WORLD_STOCK_INDEX = 'VT'\n",
    "ISHARES_MSCI_USA_MOMENTUM_FACTOR = 'MTUM'\n",
    "ISHARES_MSCI_GLOBAL_MINVOL_FACTOR = 'ACWV'\n",
    "SP500_ISHARES_EQUAL_WEIGHT = 'EWSP.SW'\n",
    "VANGUARD_US_CORPORATE_1to3Y_BOND = 'VDCA.L'"
   ]
  },
  {
   "cell_type": "code",
   "execution_count": null,
   "metadata": {},
   "outputs": [],
   "source": [
    "# ticker for s&p500 total return index\n",
    "ticker_symbol = SP500_TOTAL_RETURN\n",
    "savefile_name = \"SP500_TOTAL_RETURN\"\n",
    "\n",
    "# Get the data for the ticker\n",
    "ticker_data = yf.Ticker(ticker_symbol)\n",
    "\n",
    "# Define the period for historical data\n",
    "historical_data = ticker_data.history(period='max') \n",
    "\n",
    "display(historical_data)\n"
   ]
  },
  {
   "cell_type": "code",
   "execution_count": null,
   "metadata": {},
   "outputs": [],
   "source": [
    "clean_data = (\n",
    "    historical_data\n",
    "    .loc[:,['Open', 'High', 'Low', 'Close']]\n",
    ")\n",
    "\n",
    "clean_data.index = (\n",
    "    clean_data.index.strftime('%d-%m-%Y')\n",
    ")\n",
    "\n",
    "clean_data = clean_data.reset_index()\n",
    "\n",
    "clean_data.to_csv(f'../data/{savefile_name}.csv', index=False)\n",
    "\n",
    "display(clean_data)"
   ]
  }
 ],
 "metadata": {
  "kernelspec": {
   "display_name": ".venv",
   "language": "python",
   "name": "python3"
  },
  "language_info": {
   "codemirror_mode": {
    "name": "ipython",
    "version": 3
   },
   "file_extension": ".py",
   "mimetype": "text/x-python",
   "name": "python",
   "nbconvert_exporter": "python",
   "pygments_lexer": "ipython3",
   "version": "3.12.0"
  }
 },
 "nbformat": 4,
 "nbformat_minor": 2
}
